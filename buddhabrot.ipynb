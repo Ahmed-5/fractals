{
 "cells": [
  {
   "cell_type": "code",
   "execution_count": 1,
   "metadata": {},
   "outputs": [],
   "source": [
    "from math import inf\n",
    "import numpy as np\n",
    "import matplotlib.pyplot as plt\n",
    "\n",
    "%matplotlib inline"
   ]
  },
  {
   "cell_type": "code",
   "execution_count": 2,
   "metadata": {},
   "outputs": [],
   "source": [
    "xs = -1.6\n",
    "xe = 0.6\n",
    "ys = -1\n",
    "ye = 1\n",
    "xtics = 11\n",
    "ytics = 11\n",
    "num_p = 1001\n",
    "x,y = np.meshgrid(np.linspace(xs, xe, num_p), np.linspace(ys, ye, num_p))\n",
    "\n",
    "inf_comp = np.array(complex(inf, inf))\n",
    "nanj = np.complex128(np.nan+(np.nan)*1j)"
   ]
  },
  {
   "cell_type": "code",
   "execution_count": 3,
   "metadata": {},
   "outputs": [],
   "source": [
    "points = x + y*1j\n",
    "z = np.zeros_like(points)\n",
    "# z = points\n",
    "iters = np.ones(points.shape)*np.inf"
   ]
  },
  {
   "cell_type": "code",
   "execution_count": 4,
   "metadata": {},
   "outputs": [],
   "source": [
    "points = points[::-1]"
   ]
  },
  {
   "cell_type": "code",
   "execution_count": null,
   "metadata": {},
   "outputs": [],
   "source": []
  }
 ],
 "metadata": {
  "interpreter": {
   "hash": "b8d95c598a0d400b8ea806a5a4f4d66e0fe7e8ef9b8472e045a1b581be580002"
  },
  "kernelspec": {
   "display_name": "Python 3.8.8 64-bit ('base': conda)",
   "language": "python",
   "name": "python3"
  },
  "language_info": {
   "codemirror_mode": {
    "name": "ipython",
    "version": 3
   },
   "file_extension": ".py",
   "mimetype": "text/x-python",
   "name": "python",
   "nbconvert_exporter": "python",
   "pygments_lexer": "ipython3",
   "version": "3.8.8"
  },
  "orig_nbformat": 4
 },
 "nbformat": 4,
 "nbformat_minor": 2
}
